{
 "cells": [
  {
   "cell_type": "markdown",
   "metadata": {
    "colab_type": "text",
    "id": "xqLjB2cy5S7m"
   },
   "source": [
    "## TPU-speed data pipelines\n"
   ]
  },
  {
   "cell_type": "markdown",
   "metadata": {
    "id": "xHxb-dlhMIzW"
   },
   "source": [
    "**Learning Objectives**\n",
    "\n",
    "1. To use the tf.data.Dataset API to load training data.\n",
    "2. To use TFRecord format to load training data efficiently from GCS.\n",
    "\n",
    "## Introduction\n",
    "\n",
    "TPUs are very fast. The stream of training data must keep up with their training speed. In this lab, you will learn how to load data from GCS with the tf.data.Dataset API to feed your TPU.\n",
    "\n",
    "Each learning objective will correspond to a __#TODO__ in this student lab notebook -- try to complete this notebook first and then review the [solution notebook](../solutions/tpu_speed_data_pipelines.ipynb)."
   ]
  },
  {
   "cell_type": "markdown",
   "metadata": {
    "colab_type": "text",
    "id": "qpiJj8ym0v0-"
   },
   "source": [
    "### Import necessary libraries"
   ]
  },
  {
   "cell_type": "code",
   "execution_count": 1,
   "metadata": {
    "colab": {
     "base_uri": "https://localhost:8080/",
     "height": 34
    },
    "colab_type": "code",
    "id": "AoilhmYe1b5t",
    "outputId": "0f67687c-e981-491c-e50e-59cf27da6a94"
   },
   "outputs": [
    {
     "name": "stderr",
     "output_type": "stream",
     "text": [
      "2022-12-17 05:55:04.950593: I tensorflow/core/platform/cpu_feature_guard.cc:193] This TensorFlow binary is optimized with oneAPI Deep Neural Network Library (oneDNN) to use the following CPU instructions in performance-critical operations:  AVX2 FMA\n",
      "To enable them in other operations, rebuild TensorFlow with the appropriate compiler flags.\n",
      "2022-12-17 05:55:05.169036: E tensorflow/stream_executor/cuda/cuda_blas.cc:2981] Unable to register cuBLAS factory: Attempting to register factory for plugin cuBLAS when one has already been registered\n",
      "2022-12-17 05:55:06.669981: W tensorflow/stream_executor/platform/default/dso_loader.cc:64] Could not load dynamic library 'libnvinfer.so.7'; dlerror: libnvinfer.so.7: cannot open shared object file: No such file or directory; LD_LIBRARY_PATH: /usr/local/cuda/lib64:/usr/local/nccl2/lib:/usr/local/cuda/extras/CUPTI/lib64\n",
      "2022-12-17 05:55:06.670144: W tensorflow/stream_executor/platform/default/dso_loader.cc:64] Could not load dynamic library 'libnvinfer_plugin.so.7'; dlerror: libnvinfer_plugin.so.7: cannot open shared object file: No such file or directory; LD_LIBRARY_PATH: /usr/local/cuda/lib64:/usr/local/nccl2/lib:/usr/local/cuda/extras/CUPTI/lib64\n",
      "2022-12-17 05:55:06.670158: W tensorflow/compiler/tf2tensorrt/utils/py_utils.cc:38] TF-TRT Warning: Cannot dlopen some TensorRT libraries. If you would like to use Nvidia GPU with TensorRT, please make sure the missing libraries mentioned above are installed properly.\n",
      "/opt/conda/lib/python3.7/site-packages/tensorflow_io/python/ops/__init__.py:98: UserWarning: unable to load libtensorflow_io_plugins.so: unable to open file: libtensorflow_io_plugins.so, from paths: ['/opt/conda/lib/python3.7/site-packages/tensorflow_io/python/ops/libtensorflow_io_plugins.so']\n",
      "caused by: ['/opt/conda/lib/python3.7/site-packages/tensorflow_io/python/ops/libtensorflow_io_plugins.so: undefined symbol: _ZN3tsl5mutexC1Ev']\n",
      "  warnings.warn(f\"unable to load libtensorflow_io_plugins.so: {e}\")\n",
      "/opt/conda/lib/python3.7/site-packages/tensorflow_io/python/ops/__init__.py:104: UserWarning: file system plugins are not loaded: unable to open file: libtensorflow_io.so, from paths: ['/opt/conda/lib/python3.7/site-packages/tensorflow_io/python/ops/libtensorflow_io.so']\n",
      "caused by: ['/opt/conda/lib/python3.7/site-packages/tensorflow_io/python/ops/libtensorflow_io.so: undefined symbol: _ZNK10tensorflow4data11DatasetBase8FinalizeEPNS_15OpKernelContextESt8functionIFN3tsl8StatusOrISt10unique_ptrIS1_NS5_4core15RefCountDeleterEEEEvEE']\n",
      "  warnings.warn(f\"file system plugins are not loaded: {e}\")\n"
     ]
    },
    {
     "name": "stdout",
     "output_type": "stream",
     "text": [
      "Tensorflow version 2.10.1\n"
     ]
    }
   ],
   "source": [
    "import os, re, time, json\n",
    "import sys, math\n",
    "import PIL.Image, PIL.ImageFont, PIL.ImageDraw\n",
    "import numpy as np\n",
    "import tensorflow as tf\n",
    "from matplotlib import pyplot as plt\n",
    "print(\"Tensorflow version \" + tf.__version__)"
   ]
  },
  {
   "cell_type": "code",
   "execution_count": 2,
   "metadata": {
    "cellView": "form",
    "colab": {},
    "colab_type": "code",
    "id": "qhdz68Xm3Z4Z"
   },
   "outputs": [],
   "source": [
    "#@title visualization utilities\n",
    "\"\"\"\n",
    "This cell contains helper functions used for visualization\n",
    "and downloads only. You can skip reading it. There is very\n",
    "little useful Keras/Tensorflow code here.\n",
    "\"\"\"\n",
    "\n",
    "# Matplotlib config\n",
    "plt.rc('image', cmap='gray_r')\n",
    "plt.rc('grid', linewidth=0)\n",
    "plt.rc('xtick', top=False, bottom=False, labelsize='large')\n",
    "plt.rc('ytick', left=False, right=False, labelsize='large')\n",
    "plt.rc('axes', facecolor='F8F8F8', titlesize=\"large\", edgecolor='white')\n",
    "plt.rc('text', color='a8151a')\n",
    "plt.rc('figure', facecolor='F0F0F0')# Matplotlib fonts\n",
    "MATPLOTLIB_FONT_DIR = os.path.join(os.path.dirname(plt.__file__), \"mpl-data/fonts/ttf\")\n",
    "\n",
    "# pull a batch from the datasets. This code is not very nice, it gets much better in eager mode\n",
    "def dataset_to_numpy_util(training_dataset, validation_dataset, N):\n",
    "  \n",
    "  # get one batch from each: 10000 validation digits, N training digits\n",
    "  batch_train_ds = training_dataset.unbatch().batch(N)\n",
    "  \n",
    "  # eager execution: loop through datasets normally\n",
    "  for validation_digits, validation_labels in validation_dataset:\n",
    "    validation_digits = validation_digits.numpy()\n",
    "    validation_labels = validation_labels.numpy()\n",
    "    break\n",
    "  for training_digits, training_labels in batch_train_ds:\n",
    "    training_digits = training_digits.numpy()\n",
    "    training_labels = training_labels.numpy()\n",
    "    break\n",
    "  \n",
    "  # these were one-hot encoded in the dataset\n",
    "  validation_labels = np.argmax(validation_labels, axis=1)\n",
    "  training_labels = np.argmax(training_labels, axis=1)\n",
    "  \n",
    "  return (training_digits, training_labels,\n",
    "          validation_digits, validation_labels)\n",
    "\n",
    "# create digits from local fonts for testing\n",
    "def create_digits_from_local_fonts(n):\n",
    "  font_labels = []\n",
    "  img = PIL.Image.new('LA', (28*n, 28), color = (0,255)) # format 'LA': black in channel 0, alpha in channel 1\n",
    "  font1 = PIL.ImageFont.truetype(os.path.join(MATPLOTLIB_FONT_DIR, 'DejaVuSansMono-Oblique.ttf'), 25)\n",
    "  font2 = PIL.ImageFont.truetype(os.path.join(MATPLOTLIB_FONT_DIR, 'STIXGeneral.ttf'), 25)\n",
    "  d = PIL.ImageDraw.Draw(img)\n",
    "  for i in range(n):\n",
    "    font_labels.append(i%10)\n",
    "    d.text((7+i*28,0 if i<10 else -4), str(i%10), fill=(255,255), font=font1 if i<10 else font2)\n",
    "  font_digits = np.array(img.getdata(), np.float32)[:,0] / 255.0 # black in channel 0, alpha in channel 1 (discarded)\n",
    "  font_digits = np.reshape(np.stack(np.split(np.reshape(font_digits, [28, 28*n]), n, axis=1), axis=0), [n, 28*28])\n",
    "  return font_digits, font_labels\n",
    "\n",
    "# utility to display a row of digits with their predictions\n",
    "def display_digits(digits, predictions, labels, title, n):\n",
    "  plt.figure(figsize=(13,3))\n",
    "  digits = np.reshape(digits, [n, 28, 28])\n",
    "  digits = np.swapaxes(digits, 0, 1)\n",
    "  digits = np.reshape(digits, [28, 28*n])\n",
    "  plt.yticks([])\n",
    "  plt.xticks([28*x+14 for x in range(n)], predictions)\n",
    "  for i,t in enumerate(plt.gca().xaxis.get_ticklabels()):\n",
    "    if predictions[i] != labels[i]: t.set_color('red') # bad predictions in red\n",
    "  plt.imshow(digits)\n",
    "  plt.grid(None)\n",
    "  plt.title(title)\n",
    "  \n",
    "# utility to display multiple rows of digits, sorted by unrecognized/recognized status\n",
    "def display_top_unrecognized(digits, predictions, labels, n, lines):\n",
    "  idx = np.argsort(predictions==labels) # sort order: unrecognized first\n",
    "  for i in range(lines):\n",
    "    display_digits(digits[idx][i*n:(i+1)*n], predictions[idx][i*n:(i+1)*n], labels[idx][i*n:(i+1)*n],\n",
    "                   \"{} sample validation digits out of {} with bad predictions in red and sorted first\".format(n*lines, len(digits)) if i==0 else \"\", n)\n",
    "    \n",
    "# utility to display training and validation curves\n",
    "def display_training_curves(training, validation, title, subplot):\n",
    "  if subplot%10==1: # set up the subplots on the first call\n",
    "    plt.subplots(figsize=(10,10), facecolor='#F0F0F0')\n",
    "    plt.tight_layout()\n",
    "  ax = plt.subplot(subplot)\n",
    "  ax.grid(linewidth=1, color='white')\n",
    "  ax.plot(training)\n",
    "  ax.plot(validation)\n",
    "  ax.set_title('model '+ title)\n",
    "  ax.set_ylabel(title)\n",
    "  ax.set_xlabel('epoch')\n",
    "  ax.legend(['train', 'valid.'])"
   ]
  },
  {
   "cell_type": "markdown",
   "metadata": {
    "colab_type": "text",
    "id": "R4jujVYWY9-6"
   },
   "source": [
    "### TPU or GPU detection"
   ]
  },
  {
   "cell_type": "code",
   "execution_count": 3,
   "metadata": {
    "colab": {
     "base_uri": "https://localhost:8080/",
     "height": 714
    },
    "colab_type": "code",
    "id": "Hd5zB1G7Y9-7",
    "outputId": "b1bc953e-f9cf-403d-b14e-3a8f07c8bea9"
   },
   "outputs": [
    {
     "name": "stdout",
     "output_type": "stream",
     "text": [
      "WARNING:tensorflow:There are non-GPU devices in `tf.distribute.Strategy`, not using nccl allreduce.\n",
      "INFO:tensorflow:Using MirroredStrategy with devices ('/job:localhost/replica:0/task:0/device:CPU:0',)\n",
      "Number of accelerators:  1\n"
     ]
    },
    {
     "name": "stderr",
     "output_type": "stream",
     "text": [
      "2022-12-17 05:55:17.517257: W tensorflow/stream_executor/platform/default/dso_loader.cc:64] Could not load dynamic library 'libcuda.so.1'; dlerror: libcuda.so.1: cannot open shared object file: No such file or directory; LD_LIBRARY_PATH: /usr/local/cuda/lib64:/usr/local/nccl2/lib:/usr/local/cuda/extras/CUPTI/lib64\n",
      "2022-12-17 05:55:17.517316: W tensorflow/stream_executor/cuda/cuda_driver.cc:263] failed call to cuInit: UNKNOWN ERROR (303)\n",
      "2022-12-17 05:55:17.517357: I tensorflow/stream_executor/cuda/cuda_diagnostics.cc:156] kernel driver does not appear to be running on this host (tensorflow-2-10-20221217-143209): /proc/driver/nvidia/version does not exist\n",
      "2022-12-17 05:55:17.518079: I tensorflow/core/platform/cpu_feature_guard.cc:193] This TensorFlow binary is optimized with oneAPI Deep Neural Network Library (oneDNN) to use the following CPU instructions in performance-critical operations:  AVX2 FMA\n",
      "To enable them in other operations, rebuild TensorFlow with the appropriate compiler flags.\n"
     ]
    }
   ],
   "source": [
    "try: # detect TPUs\n",
    "  tpu = tf.distribute.cluster_resolver.TPUClusterResolver() # TPU detection\n",
    "  tf.config.experimental_connect_to_cluster(tpu)\n",
    "  tf.tpu.experimental.initialize_tpu_system(tpu)\n",
    "  strategy = tf.distribute.experimental.TPUStrategy(tpu)\n",
    "except ValueError: # detect GPUs\n",
    "  strategy = tf.distribute.MirroredStrategy() # for GPU or multi-GPU machines\n",
    "  #strategy = tf.distribute.get_strategy() # default strategy that works on CPU and single GPU\n",
    "  #strategy = tf.distribute.experimental.MultiWorkerMirroredStrategy() # for clusters of multi-GPU machines\n",
    "\n",
    "print(\"Number of accelerators: \", strategy.num_replicas_in_sync)"
   ]
  },
  {
   "cell_type": "markdown",
   "metadata": {
    "colab_type": "text",
    "id": "Lvo0t7XVIkWZ"
   },
   "source": [
    "### Parameters"
   ]
  },
  {
   "cell_type": "code",
   "execution_count": 4,
   "metadata": {
    "colab": {},
    "colab_type": "code",
    "id": "cCpkS9C_H7Tl"
   },
   "outputs": [],
   "source": [
    "BATCH_SIZE = 64 * strategy.num_replicas_in_sync # Gobal batch size.\n",
    "# The global batch size will be automatically sharded across all\n",
    "# replicas by the tf.data.Dataset API. A single TPU has 8 cores.\n",
    "# The best practice is to scale the batch size by the number of\n",
    "# replicas (cores). The learning rate should be increased as well.\n",
    "\n",
    "LEARNING_RATE = 0.01\n",
    "LEARNING_RATE_EXP_DECAY = 0.6 if strategy.num_replicas_in_sync == 1 else 0.7\n",
    "# Learning rate computed later as LEARNING_RATE * LEARNING_RATE_EXP_DECAY**epoch\n",
    "# 0.7 decay instead of 0.6 means a slower decay, i.e. a faster learnign rate.\n",
    "\n",
    "training_images_file   = 'gs://mnist-public/train-images-idx3-ubyte'\n",
    "training_labels_file   = 'gs://mnist-public/train-labels-idx1-ubyte'\n",
    "validation_images_file = 'gs://mnist-public/t10k-images-idx3-ubyte'\n",
    "validation_labels_file = 'gs://mnist-public/t10k-labels-idx1-ubyte'"
   ]
  },
  {
   "cell_type": "markdown",
   "metadata": {
    "colab_type": "text",
    "id": "Lz1Zknfk4qCx"
   },
   "source": [
    "### tf.data.Dataset: parse files and prepare training and validation datasets\n",
    "Please read the [best practices for building](https://www.tensorflow.org/api_docs/python/tf/data/Dataset) input pipelines with tf.data.Dataset"
   ]
  },
  {
   "cell_type": "code",
   "execution_count": 5,
   "metadata": {
    "colab": {},
    "colab_type": "code",
    "id": "ZE8dgyPC1_6m"
   },
   "outputs": [],
   "source": [
    "def read_label(tf_bytestring):\n",
    "    label = tf.io.decode_raw(tf_bytestring, tf.uint8)\n",
    "    label = tf.reshape(label, [])\n",
    "    label = tf.one_hot(label, 10)\n",
    "    return label\n",
    "  \n",
    "def read_image(tf_bytestring):\n",
    "    image = tf.io.decode_raw(tf_bytestring, tf.uint8)\n",
    "    image = tf.cast(image, tf.float32)/256.0\n",
    "    image = tf.reshape(image, [28*28])\n",
    "    return image\n",
    "  \n",
    "def load_dataset(image_file, label_file):\n",
    "    imagedataset = tf.data.FixedLengthRecordDataset(image_file, 28*28, header_bytes=16)\n",
    "    imagedataset = imagedataset.map(read_image, num_parallel_calls=16)\n",
    "    labelsdataset = tf.data.FixedLengthRecordDataset(label_file, 1, header_bytes=8)\n",
    "    labelsdataset = labelsdataset.map(read_label, num_parallel_calls=16)\n",
    "    dataset = tf.data.Dataset.zip((imagedataset, labelsdataset))\n",
    "    return dataset \n",
    "  \n",
    "def get_training_dataset(image_file, label_file, batch_size):\n",
    "    dataset = load_dataset(image_file, label_file)\n",
    "    dataset = dataset.cache()  # this small dataset can be entirely cached in RAM\n",
    "    dataset = dataset.shuffle(5000, reshuffle_each_iteration=True)\n",
    "    dataset = dataset.repeat()\n",
    "    dataset = dataset.batch(batch_size)\n",
    "    dataset = dataset.prefetch(-1)  # fetch next batches while training on the current one (-1: autotune prefetch buffer size)\n",
    "    return dataset\n",
    "  \n",
    "def get_validation_dataset(image_file, label_file):\n",
    "    dataset = load_dataset(image_file, label_file)\n",
    "    dataset = dataset.cache() # this small dataset can be entirely cached in RAM\n",
    "    dataset = dataset.batch(10000)\n",
    "    return dataset\n",
    "\n",
    "# instantiate the training_dataset and validation_dataset\n",
    "# TODO: Your code goes here\n",
    "training_dataset = get_training_dataset(training_images_file, training_labels_file, BATCH_SIZE)\n",
    "# TODO: Your code goes here\n",
    "validation_dataset = get_validation_dataset(validation_images_file, validation_labels_file)\n"
   ]
  },
  {
   "cell_type": "markdown",
   "metadata": {
    "colab_type": "text",
    "id": "_fXo6GuvL3EB"
   },
   "source": [
    "### Let's have a look at the data"
   ]
  },
  {
   "cell_type": "code",
   "execution_count": 6,
   "metadata": {
    "colab": {
     "base_uri": "https://localhost:8080/",
     "height": 177
    },
    "colab_type": "code",
    "id": "yZ4tjPKvL2eh",
    "outputId": "e448745a-9b3f-457e-eb92-2aa2089cfff9"
   },
   "outputs": [
    {
     "name": "stderr",
     "output_type": "stream",
     "text": [
      "2022-12-17 05:58:38.584858: W tensorflow/core/kernels/data/cache_dataset_ops.cc:856] The calling iterator did not fully read the dataset being cached. In order to avoid unexpected truncation of the dataset, the partially cached contents of the dataset  will be discarded. This can happen if you have an input pipeline similar to `dataset.cache().take(k).repeat()`. You should use `dataset.take(k).cache().repeat()` instead.\n",
      "2022-12-17 05:58:39.577868: W tensorflow/core/kernels/data/cache_dataset_ops.cc:856] The calling iterator did not fully read the dataset being cached. In order to avoid unexpected truncation of the dataset, the partially cached contents of the dataset  will be discarded. This can happen if you have an input pipeline similar to `dataset.cache().take(k).repeat()`. You should use `dataset.take(k).cache().repeat()` instead.\n"
     ]
    },
    {
     "data": {
      "image/png": "[encoded data removed]",
      "text/plain": [
       "<Figure size 1300x300 with 1 Axes>"
      ]
     },
     "metadata": {},
     "output_type": "display_data"
    },
    {
     "data": {
      "image/png": "[encoded data removed]",
      "text/plain": [
       "<Figure size 1300x300 with 1 Axes>"
      ]
     },
     "metadata": {},
     "output_type": "display_data"
    }
   ],
   "source": [
    "N = 24\n",
    "(training_digits, training_labels,\n",
    " validation_digits, validation_labels) = dataset_to_numpy_util(training_dataset, validation_dataset, N)\n",
    "display_digits(training_digits, training_labels, training_labels, \"training digits and their labels\", N)\n",
    "display_digits(validation_digits[:N], validation_labels[:N], validation_labels[:N], \"validation digits and their labels\", N)\n",
    "font_digits, font_labels = create_digits_from_local_fonts(N)"
   ]
  },
  {
   "cell_type": "markdown",
   "metadata": {
    "colab_type": "text",
    "id": "KIc0oqiD40HC"
   },
   "source": [
    "### Keras model: 3 convolutional layers, 2 dense layers\n",
    "If you are not sure what cross-entropy, dropout, softmax or batch-normalization mean, head here for a crash-course: [Tensorflow and deep learning without a PhD](https://github.com/GoogleCloudPlatform/tensorflow-without-a-phd/#featured-code-sample)"
   ]
  },
  {
   "cell_type": "code",
   "execution_count": 7,
   "metadata": {
    "colab": {
     "base_uri": "https://localhost:8080/",
     "height": 697
    },
    "colab_type": "code",
    "id": "56y8UNFQIVwj",
    "outputId": "c8d9a547-6c52-449a-a8fa-7cedb198df64"
   },
   "outputs": [
    {
     "name": "stdout",
     "output_type": "stream",
     "text": [
      "Model: \"sequential\"\n",
      "_________________________________________________________________\n",
      " Layer (type)                Output Shape              Param #   \n",
      "=================================================================\n",
      " image (Reshape)             (None, 28, 28, 1)         0         \n",
      "                                                                 \n",
      " conv2d (Conv2D)             (None, 28, 28, 12)        108       \n",
      "                                                                 \n",
      " batch_normalization (BatchN  (None, 28, 28, 12)       36        \n",
      " ormalization)                                                   \n",
      "                                                                 \n",
      " activation (Activation)     (None, 28, 28, 12)        0         \n",
      "                                                                 \n",
      " conv2d_1 (Conv2D)           (None, 14, 14, 24)        10368     \n",
      "                                                                 \n",
      " batch_normalization_1 (Batc  (None, 14, 14, 24)       72        \n",
      " hNormalization)                                                 \n",
      "                                                                 \n",
      " activation_1 (Activation)   (None, 14, 14, 24)        0         \n",
      "                                                                 \n",
      " conv2d_2 (Conv2D)           (None, 7, 7, 32)          27648     \n",
      "                                                                 \n",
      " batch_normalization_2 (Batc  (None, 7, 7, 32)         96        \n",
      " hNormalization)                                                 \n",
      "                                                                 \n",
      " activation_2 (Activation)   (None, 7, 7, 32)          0         \n",
      "                                                                 \n",
      " flatten (Flatten)           (None, 1568)              0         \n",
      "                                                                 \n",
      " dense (Dense)               (None, 200)               313600    \n",
      "                                                                 \n",
      " batch_normalization_3 (Batc  (None, 200)              600       \n",
      " hNormalization)                                                 \n",
      "                                                                 \n",
      " activation_3 (Activation)   (None, 200)               0         \n",
      "                                                                 \n",
      " dropout (Dropout)           (None, 200)               0         \n",
      "                                                                 \n",
      " dense_1 (Dense)             (None, 10)                2010      \n",
      "                                                                 \n",
      "=================================================================\n",
      "Total params: 354,538\n",
      "Trainable params: 354,002\n",
      "Non-trainable params: 536\n",
      "_________________________________________________________________\n"
     ]
    }
   ],
   "source": [
    "# This model trains to 99.4% accuracy in 10 epochs (with a batch size of 64)  \n",
    "\n",
    "def make_model():\n",
    "    model = tf.keras.Sequential(\n",
    "      [\n",
    "        tf.keras.layers.Reshape(input_shape=(28*28,), target_shape=(28, 28, 1), name=\"image\"),\n",
    "\n",
    "        tf.keras.layers.Conv2D(filters=12, kernel_size=3, padding='same', use_bias=False), # no bias necessary before batch norm\n",
    "        tf.keras.layers.BatchNormalization(scale=False, center=True), # no batch norm scaling necessary before \"relu\"\n",
    "        tf.keras.layers.Activation('relu'), # activation after batch norm\n",
    "\n",
    "        tf.keras.layers.Conv2D(filters=24, kernel_size=6, padding='same', use_bias=False, strides=2),\n",
    "        tf.keras.layers.BatchNormalization(scale=False, center=True),\n",
    "        tf.keras.layers.Activation('relu'),\n",
    "\n",
    "        tf.keras.layers.Conv2D(filters=32, kernel_size=6, padding='same', use_bias=False, strides=2),\n",
    "        tf.keras.layers.BatchNormalization(scale=False, center=True),\n",
    "        tf.keras.layers.Activation('relu'),\n",
    "\n",
    "        tf.keras.layers.Flatten(),\n",
    "        tf.keras.layers.Dense(200, use_bias=False),\n",
    "        tf.keras.layers.BatchNormalization(scale=False, center=True),\n",
    "        tf.keras.layers.Activation('relu'),\n",
    "        tf.keras.layers.Dropout(0.4), # Dropout on dense layer only\n",
    "\n",
    "        tf.keras.layers.Dense(10, activation='softmax')\n",
    "      ])\n",
    "\n",
    "    model.compile(optimizer='adam', # learning rate will be set by LearningRateScheduler\n",
    "                  loss='categorical_crossentropy',\n",
    "                  metrics=['accuracy'])\n",
    "     # Going back and forth between TPU and host is expensive. Better to run 128 batches on the TPU before reporting back.\n",
    "    return model\n",
    "    \n",
    "with strategy.scope():\n",
    "    model = make_model()\n",
    "\n",
    "# print model layers\n",
    "model.summary()\n",
    "\n",
    "# set up learning rate decay\n",
    "lr_decay = tf.keras.callbacks.LearningRateScheduler(\n",
    "    lambda epoch: LEARNING_RATE * LEARNING_RATE_EXP_DECAY**epoch,\n",
    "    verbose=True)"
   ]
  },
  {
   "cell_type": "markdown",
   "metadata": {
    "colab_type": "text",
    "id": "CuhDh8ao8VyB"
   },
   "source": [
    "### Train and validate the model"
   ]
  },
  {
   "cell_type": "code",
   "execution_count": null,
   "metadata": {
    "colab": {
     "base_uri": "https://localhost:8080/",
     "height": 714
    },
    "colab_type": "code",
    "id": "TTwH_P-ZJ_xx",
    "outputId": "6cbb38cd-b5ec-4425-8bdc-bbb131c8c299"
   },
   "outputs": [
    {
     "name": "stdout",
     "output_type": "stream",
     "text": [
      "Steps per epoch:  937\n",
      "\n",
      "Epoch 1: LearningRateScheduler setting learning rate to 0.01.\n",
      "Epoch 1/10\n"
     ]
    },
    {
     "name": "stderr",
     "output_type": "stream",
     "text": [
      "2022-12-17 05:58:52.173963: W tensorflow/core/framework/dataset.cc:769] Input of GeneratorDatasetOp::Dataset will not be optimized because the dataset does not implement the AsGraphDefInternal() method needed to apply optimizations.\n"
     ]
    },
    {
     "name": "stdout",
     "output_type": "stream",
     "text": [
      "937/937 [==============================] - ETA: 0s - loss: 0.1291 - accuracy: 0.9615"
     ]
    },
    {
     "name": "stderr",
     "output_type": "stream",
     "text": [
      "2022-12-17 05:59:51.331426: W tensorflow/core/framework/dataset.cc:769] Input of GeneratorDatasetOp::Dataset will not be optimized because the dataset does not implement the AsGraphDefInternal() method needed to apply optimizations.\n",
      "2022-12-17 05:59:53.300253: W tensorflow/core/framework/cpu_allocator_impl.cc:82] Allocation of 376320000 exceeds 10% of free system memory.\n"
     ]
    },
    {
     "name": "stdout",
     "output_type": "stream",
     "text": [
      "937/937 [==============================] - 63s 63ms/step - loss: 0.1291 - accuracy: 0.9615 - val_loss: 0.0501 - val_accuracy: 0.9845 - lr: 0.0100\n",
      "\n",
      "Epoch 2: LearningRateScheduler setting learning rate to 0.006.\n",
      "Epoch 2/10\n",
      "937/937 [==============================] - ETA: 0s - loss: 0.0495 - accuracy: 0.9850"
     ]
    },
    {
     "name": "stderr",
     "output_type": "stream",
     "text": [
      "2022-12-17 06:00:49.478757: W tensorflow/core/framework/dataset.cc:769] Input of GeneratorDatasetOp::Dataset will not be optimized because the dataset does not implement the AsGraphDefInternal() method needed to apply optimizations.\n",
      "2022-12-17 06:00:49.535055: W tensorflow/core/framework/cpu_allocator_impl.cc:82] Allocation of 376320000 exceeds 10% of free system memory.\n"
     ]
    },
    {
     "name": "stdout",
     "output_type": "stream",
     "text": [
      "937/937 [==============================] - 56s 60ms/step - loss: 0.0495 - accuracy: 0.9850 - val_loss: 0.0282 - val_accuracy: 0.9890 - lr: 0.0060\n",
      "\n",
      "Epoch 3: LearningRateScheduler setting learning rate to 0.0036.\n",
      "Epoch 3/10\n",
      "937/937 [==============================] - ETA: 0s - loss: 0.0296 - accuracy: 0.9910"
     ]
    },
    {
     "name": "stderr",
     "output_type": "stream",
     "text": [
      "2022-12-17 06:01:45.001204: W tensorflow/core/framework/dataset.cc:769] Input of GeneratorDatasetOp::Dataset will not be optimized because the dataset does not implement the AsGraphDefInternal() method needed to apply optimizations.\n",
      "2022-12-17 06:01:45.057188: W tensorflow/core/framework/cpu_allocator_impl.cc:82] Allocation of 376320000 exceeds 10% of free system memory.\n"
     ]
    },
    {
     "name": "stdout",
     "output_type": "stream",
     "text": [
      "937/937 [==============================] - 56s 59ms/step - loss: 0.0296 - accuracy: 0.9910 - val_loss: 0.0269 - val_accuracy: 0.9915 - lr: 0.0036\n",
      "\n",
      "Epoch 4: LearningRateScheduler setting learning rate to 0.0021599999999999996.\n",
      "Epoch 4/10\n",
      "937/937 [==============================] - ETA: 0s - loss: 0.0188 - accuracy: 0.9942"
     ]
    },
    {
     "name": "stderr",
     "output_type": "stream",
     "text": [
      "2022-12-17 06:02:41.291110: W tensorflow/core/framework/dataset.cc:769] Input of GeneratorDatasetOp::Dataset will not be optimized because the dataset does not implement the AsGraphDefInternal() method needed to apply optimizations.\n",
      "2022-12-17 06:02:41.364456: W tensorflow/core/framework/cpu_allocator_impl.cc:82] Allocation of 376320000 exceeds 10% of free system memory.\n"
     ]
    },
    {
     "name": "stdout",
     "output_type": "stream",
     "text": [
      "937/937 [==============================] - 56s 60ms/step - loss: 0.0188 - accuracy: 0.9942 - val_loss: 0.0201 - val_accuracy: 0.9937 - lr: 0.0022\n",
      "\n",
      "Epoch 5: LearningRateScheduler setting learning rate to 0.001296.\n",
      "Epoch 5/10\n",
      "937/937 [==============================] - ETA: 0s - loss: 0.0131 - accuracy: 0.9959"
     ]
    },
    {
     "name": "stderr",
     "output_type": "stream",
     "text": [
      "2022-12-17 06:03:36.707090: W tensorflow/core/framework/dataset.cc:769] Input of GeneratorDatasetOp::Dataset will not be optimized because the dataset does not implement the AsGraphDefInternal() method needed to apply optimizations.\n",
      "2022-12-17 06:03:36.763857: W tensorflow/core/framework/cpu_allocator_impl.cc:82] Allocation of 376320000 exceeds 10% of free system memory.\n"
     ]
    },
    {
     "name": "stdout",
     "output_type": "stream",
     "text": [
      "937/937 [==============================] - 55s 59ms/step - loss: 0.0131 - accuracy: 0.9959 - val_loss: 0.0174 - val_accuracy: 0.9945 - lr: 0.0013\n",
      "\n",
      "Epoch 6: LearningRateScheduler setting learning rate to 0.0007775999999999998.\n",
      "Epoch 6/10\n",
      "937/937 [==============================] - ETA: 0s - loss: 0.0087 - accuracy: 0.9974"
     ]
    },
    {
     "name": "stderr",
     "output_type": "stream",
     "text": [
      "2022-12-17 06:04:32.032853: W tensorflow/core/framework/dataset.cc:769] Input of GeneratorDatasetOp::Dataset will not be optimized because the dataset does not implement the AsGraphDefInternal() method needed to apply optimizations.\n"
     ]
    },
    {
     "name": "stdout",
     "output_type": "stream",
     "text": [
      "937/937 [==============================] - 55s 59ms/step - loss: 0.0087 - accuracy: 0.9974 - val_loss: 0.0188 - val_accuracy: 0.9938 - lr: 7.7760e-04\n",
      "\n",
      "Epoch 7: LearningRateScheduler setting learning rate to 0.0004665599999999999.\n",
      "Epoch 7/10\n",
      "937/937 [==============================] - ETA: 0s - loss: 0.0068 - accuracy: 0.9978"
     ]
    },
    {
     "name": "stderr",
     "output_type": "stream",
     "text": [
      "2022-12-17 06:05:26.750267: W tensorflow/core/framework/dataset.cc:769] Input of GeneratorDatasetOp::Dataset will not be optimized because the dataset does not implement the AsGraphDefInternal() method needed to apply optimizations.\n"
     ]
    },
    {
     "name": "stdout",
     "output_type": "stream",
     "text": [
      "937/937 [==============================] - 55s 58ms/step - loss: 0.0068 - accuracy: 0.9978 - val_loss: 0.0171 - val_accuracy: 0.9952 - lr: 4.6656e-04\n",
      "\n",
      "Epoch 8: LearningRateScheduler setting learning rate to 0.00027993599999999994.\n",
      "Epoch 8/10\n",
      "937/937 [==============================] - ETA: 0s - loss: 0.0054 - accuracy: 0.9984"
     ]
    },
    {
     "name": "stderr",
     "output_type": "stream",
     "text": [
      "2022-12-17 06:06:22.073683: W tensorflow/core/framework/dataset.cc:769] Input of GeneratorDatasetOp::Dataset will not be optimized because the dataset does not implement the AsGraphDefInternal() method needed to apply optimizations.\n"
     ]
    },
    {
     "name": "stdout",
     "output_type": "stream",
     "text": [
      "937/937 [==============================] - 55s 59ms/step - loss: 0.0054 - accuracy: 0.9984 - val_loss: 0.0169 - val_accuracy: 0.9947 - lr: 2.7994e-04\n",
      "\n",
      "Epoch 9: LearningRateScheduler setting learning rate to 0.00016796159999999993.\n",
      "Epoch 9/10\n",
      "937/937 [==============================] - ETA: 0s - loss: 0.0045 - accuracy: 0.9988"
     ]
    },
    {
     "name": "stderr",
     "output_type": "stream",
     "text": [
      "2022-12-17 06:07:16.736270: W tensorflow/core/framework/dataset.cc:769] Input of GeneratorDatasetOp::Dataset will not be optimized because the dataset does not implement the AsGraphDefInternal() method needed to apply optimizations.\n"
     ]
    },
    {
     "name": "stdout",
     "output_type": "stream",
     "text": [
      "937/937 [==============================] - 55s 58ms/step - loss: 0.0045 - accuracy: 0.9988 - val_loss: 0.0168 - val_accuracy: 0.9946 - lr: 1.6796e-04\n",
      "\n",
      "Epoch 10: LearningRateScheduler setting learning rate to 0.00010077695999999997.\n",
      "Epoch 10/10\n",
      "744/937 [======================>.......] - ETA: 10s - loss: 0.0043 - accuracy: 0.9988"
     ]
    }
   ],
   "source": [
    "EPOCHS = 10\n",
    "steps_per_epoch = 60000//BATCH_SIZE  # 60,000 items in this dataset\n",
    "print(\"Steps per epoch: \", steps_per_epoch)\n",
    "  \n",
    "history = model.fit(training_dataset,\n",
    "                    steps_per_epoch=steps_per_epoch, epochs=EPOCHS,\n",
    "                    validation_data=validation_dataset, validation_steps=1,\n",
    "                    callbacks=[lr_decay])"
   ]
  },
  {
   "cell_type": "markdown",
   "metadata": {
    "colab_type": "text",
    "id": "9jFVovcUUVs1"
   },
   "source": [
    "### Visualize predictions"
   ]
  },
  {
   "cell_type": "code",
   "execution_count": null,
   "metadata": {
    "colab": {
     "base_uri": "https://localhost:8080/",
     "height": 561
    },
    "colab_type": "code",
    "id": "w12OId8Mz7dF",
    "outputId": "75535916-de51-4f83-eabc-a79a40ad5728"
   },
   "outputs": [],
   "source": [
    "# recognize digits from local fonts\n",
    "probabilities = model.predict(font_digits, steps=1)\n",
    "predicted_labels = np.argmax(probabilities, axis=1)\n",
    "display_digits(font_digits, predicted_labels, font_labels, \"predictions from local fonts (bad predictions in red)\", N)\n",
    "\n",
    "# recognize validation digits\n",
    "probabilities = model.predict(validation_digits, steps=1)\n",
    "predicted_labels = np.argmax(probabilities, axis=1)\n",
    "display_top_unrecognized(validation_digits, predicted_labels, validation_labels, N, 7)"
   ]
  },
  {
   "cell_type": "code",
   "execution_count": null,
   "metadata": {
    "cellView": "form",
    "colab": {},
    "colab_type": "code",
    "id": "MPkvHdAYNt9J"
   },
   "outputs": [],
   "source": [
    "#@title \"display utilities\"\n",
    "def display_9_images_from_dataset(dataset):\n",
    "  plt.figure(figsize=(13,13))\n",
    "  subplot=331\n",
    "  for i, (image, label) in enumerate(dataset):\n",
    "    plt.subplot(subplot)\n",
    "    plt.axis('off')\n",
    "    plt.imshow(image.numpy().astype(np.uint8))\n",
    "    plt.title(label.numpy().decode(\"utf-8\"), fontsize=16)\n",
    "    subplot += 1\n",
    "    if i==8:\n",
    "      break\n",
    "  plt.tight_layout()\n",
    "  plt.subplots_adjust(wspace=0.1, hspace=0.1)\n",
    "  plt.show()"
   ]
  },
  {
   "cell_type": "markdown",
   "metadata": {
    "colab_type": "text",
    "id": "w9S3uKC_iXY5"
   },
   "source": [
    "## Configuration"
   ]
  },
  {
   "cell_type": "code",
   "execution_count": null,
   "metadata": {
    "colab": {},
    "colab_type": "code",
    "id": "d8K6hL_kiWve"
   },
   "outputs": [],
   "source": [
    "GCS_PATTERN = 'gs://flowers-public/*/*.jpg'\n",
    "CLASSES = ['daisy', 'dandelion', 'roses', 'sunflowers', 'tulips'] # flower labels (folder names in the data)"
   ]
  },
  {
   "cell_type": "markdown",
   "metadata": {
    "colab_type": "text",
    "id": "kvPXiovhi3ZZ"
   },
   "source": [
    "## Read images and labels\n",
    "1. Use `fileset=`[`tf.data.Dataset.list_files`](https://www.tensorflow.org/api_docs/python/tf/data/Dataset#list_files) to scan the data folder\n",
    "1. Iterate through the dataset of filenames: `for filename in fileset:...` . \n",
    " * Does it work ? Yes, but if you print the filename you get Tensors containing strings.\n",
    " * To display the string only, you can use filename.numpy(). This works on any Tensorflow tensor.\n",
    " * tip: to limit the size of the dataset for display, you can use [`Dataset.take()`](https://www.tensorflow.org/api_docs/python/tf/data/Dataset#take). Like this: `for data in dataset.take(10): ....`\n",
    "1. Use [`tf.data.Dataset.map`](https://www.tensorflow.org/api_docs/python/tf/data/Dataset#map) to decode the JPEG files. You will find useful TF code snippets below.\n",
    " * Iterate on the image dataset. You can use .numpy().shape to only see the data sizes.\n",
    "  * Are all images of the same size ?\n",
    "1. Now create a training dataset: you have images but you also need labels:\n",
    " *  the labels (flower names) are the directory names. You will find useful TF code snippets below for parsing them.\n",
    " * If you do \"`return image, label`\" in the decoding function, you will have a Dataset of pairs (image, label).\n",
    "1. You can see the flowers and their labels with the `display_9_images_from_dataset` function. It expects the Dataset to have `(image, label)` elements."
   ]
  },
  {
   "cell_type": "code",
   "execution_count": null,
   "metadata": {
    "colab": {
     "base_uri": "https://localhost:8080/",
     "height": 1000
    },
    "colab_type": "code",
    "id": "nwsZ8X59mu24",
    "outputId": "b6704167-d495-48a8-a059-2ceb2964b331"
   },
   "outputs": [],
   "source": [
    "nb_images = len(tf.io.gfile.glob(GCS_PATTERN))\n",
    "print(\"Pattern matches {} images.\".format(nb_images))\n",
    "\n",
    "### QUESTIONS 1. and 2.\n",
    "# TODO: Your code goes here\n",
    "filenames_dataset = tf.data.Dataset.list_files(GCS_PATTERN)\n",
    "for filename in filenames_dataset.take(10):\n",
    "    print(filename.numpy().decode('utf-8')\n",
    "                                    \n",
    "### QUESTION 3.\n",
    "\n",
    "# copy-pasted from \"useful code snippets\" below\n",
    "def decode_jpeg(filename):\n",
    "  bits = tf.io.read_file(filename)\n",
    "  image = tf.image.decode_jpeg(bits)\n",
    "  return image\n",
    "\n",
    "# TODO: Your code goes here\n",
    "image_dataset = filenames_dataset.map(decode_jpeg)\n",
    "for image in image_dataset.take (10):\n",
    "    print(image.numpy().shape)\n",
    "  \n",
    "### QUESTION 4.\n",
    "# copy-pasted from \"useful code snippets\" below\n",
    "# TODO: Your code goes here\n",
    "\n",
    "def decode_jpeg_and_label(filename):\n",
    "  bits = tf.io.read_file(filename)\n",
    "  image = tf.image.decode_jpeg(bits)\n",
    "  label = tf.strings.split(tf.expand_dims(filename, axis=-1), sep='/')\n",
    "  label = label.values[-2]\n",
    "  return image, label\n",
    "\n",
    "dataset = filenames_dataset.map(decode_jpeg_and_label)\n",
    "for image, label in dataset.take(10):\n",
    "  print(image.numpy().shape, label.numpy().decode('utf-8'))\n",
    "\n",
    "  ### QUESTION 5.\n",
    "# TODO: Your code goes here\n",
    "display_9_images_from_dataset(dataset)"
   ]
  },
  {
   "cell_type": "markdown",
   "metadata": {
    "colab_type": "text",
    "id": "ZX6Vg0YZwRCP"
   },
   "source": [
    "## Useful code snippets"
   ]
  },
  {
   "cell_type": "markdown",
   "metadata": {
    "colab_type": "text",
    "id": "FszNm593wnky"
   },
   "source": [
    "### Decode a JPEG in Tensorflow"
   ]
  },
  {
   "cell_type": "code",
   "execution_count": null,
   "metadata": {
    "colab": {},
    "colab_type": "code",
    "id": "pmPz2WM2wTbS"
   },
   "outputs": [],
   "source": [
    "def decode_jpeg(filename):\n",
    "  bits = tf.io.read_file(filename)\n",
    "  image = tf.image.decode_jpeg(bits)\n",
    "  return image"
   ]
  },
  {
   "cell_type": "markdown",
   "metadata": {
    "colab_type": "text",
    "id": "Dax9B6W7wuxt"
   },
   "source": [
    "### Decode a JPEG and extract folder name in Tensorflow"
   ]
  },
  {
   "cell_type": "code",
   "execution_count": null,
   "metadata": {
    "colab": {},
    "colab_type": "code",
    "id": "kPhQl3BlxB7D"
   },
   "outputs": [],
   "source": [
    "def decode_jpeg_and_label(filename):\n",
    "  bits = tf.io.read_file(filename)\n",
    "  image = tf.image.decode_jpeg(bits)\n",
    "  # parse flower name from containing directory\n",
    "  label = tf.strings.split(tf.expand_dims(filename, axis=-1), sep='/')\n",
    "  label = label.values[-2]\n",
    "  return image, label"
   ]
  },
  {
   "cell_type": "code",
   "execution_count": null,
   "metadata": {
    "colab": {
     "base_uri": "https://localhost:8080/",
     "height": 51
    },
    "colab_type": "code",
    "id": "U6rgexPXmY37",
    "outputId": "e8a4cbb9-c4cc-428d-cfda-a64f71a556a6"
   },
   "outputs": [],
   "source": [
    "AUTO = tf.data.experimental.AUTOTUNE # used in tf.data.Dataset API"
   ]
  },
  {
   "cell_type": "markdown",
   "metadata": {
    "colab_type": "text",
    "id": "w9S3uKC_iXY5"
   },
   "source": [
    "## Configuration"
   ]
  },
  {
   "cell_type": "code",
   "execution_count": null,
   "metadata": {
    "colab": {},
    "colab_type": "code",
    "id": "d8K6hL_kiWve"
   },
   "outputs": [],
   "source": [
    "GCS_PATTERN = 'gs://flowers-public/*/*.jpg'\n",
    "GCS_OUTPUT = 'gs://flowers-public/tfrecords-jpeg-192x192-2/flowers'  # prefix for output file names\n",
    "SHARDS = 16\n",
    "TARGET_SIZE = [192, 192]\n",
    "CLASSES = [b'daisy', b'dandelion', b'roses', b'sunflowers', b'tulips'] # do not change, maps to the labels in the data (folder names)"
   ]
  },
  {
   "cell_type": "code",
   "execution_count": null,
   "metadata": {
    "cellView": "form",
    "colab": {},
    "colab_type": "code",
    "id": "MPkvHdAYNt9J"
   },
   "outputs": [],
   "source": [
    "#@title \"display utilities \"\n",
    "def display_9_images_from_dataset(dataset):\n",
    "  plt.figure(figsize=(13,13))\n",
    "  subplot=331\n",
    "  for i, (image, label) in enumerate(dataset):\n",
    "    plt.subplot(subplot)\n",
    "    plt.axis('off')\n",
    "    plt.imshow(image.numpy().astype(np.uint8))\n",
    "    plt.title(label.numpy().decode(\"utf-8\"), fontsize=16)\n",
    "    subplot += 1\n",
    "    if i==8:\n",
    "      break\n",
    "  #plt.tight_layout()\n",
    "  plt.subplots_adjust(wspace=0.1, hspace=0.1)\n",
    "  plt.show()"
   ]
  },
  {
   "cell_type": "markdown",
   "metadata": {
    "colab_type": "text",
    "id": "kvPXiovhi3ZZ"
   },
   "source": [
    "## Read images and labels"
   ]
  },
  {
   "cell_type": "code",
   "execution_count": null,
   "metadata": {
    "colab": {
     "base_uri": "https://localhost:8080/",
     "height": 34
    },
    "colab_type": "code",
    "id": "nwsZ8X59mu24",
    "outputId": "55e3bf85-effc-4d6c-8e1e-bb5c8b38c508"
   },
   "outputs": [],
   "source": [
    "nb_images = len(tf.io.gfile.glob(GCS_PATTERN))\n",
    "shard_size = math.ceil(1.0 * nb_images / SHARDS)\n",
    "print(\"Pattern matches {} images which will be rewritten as {} .tfrec files containing {} images each.\".format(nb_images, SHARDS, shard_size))\n",
    "\n",
    "def decode_jpeg_and_label(filename):\n",
    "  bits = tf.io.read_file(filename)\n",
    "  image = tf.image.decode_jpeg(bits)\n",
    "  # parse flower name from containing directory\n",
    "  label = tf.strings.split(tf.expand_dims(filename, axis=-1), sep='/')\n",
    "  label = label.values[-2]\n",
    "  return image, label\n",
    "\n",
    "filenames = tf.data.Dataset.list_files(GCS_PATTERN, seed=35155) # This also shuffles the images\n",
    "dataset1 = filenames.map(decode_jpeg_and_label, num_parallel_calls=AUTO)"
   ]
  },
  {
   "cell_type": "code",
   "execution_count": null,
   "metadata": {
    "colab": {
     "base_uri": "https://localhost:8080/",
     "height": 940
    },
    "colab_type": "code",
    "id": "nrRTvVzEOfMl",
    "outputId": "df930e8a-74d3-4d9e-cdf8-84be73ba7896"
   },
   "outputs": [],
   "source": [
    "display_9_images_from_dataset(dataset1)"
   ]
  },
  {
   "cell_type": "markdown",
   "metadata": {
    "colab_type": "text",
    "id": "sEq3jYKIjGcq"
   },
   "source": [
    "## Resize and crop images to common size\n",
    "No need to study the code in this cell. It's only image resizing."
   ]
  },
  {
   "cell_type": "code",
   "execution_count": null,
   "metadata": {
    "colab": {},
    "colab_type": "code",
    "id": "T6SfG6W-O3Ua"
   },
   "outputs": [],
   "source": [
    "def resize_and_crop_image(image, label):\n",
    "  # Resize and crop using \"fill\" algorithm:\n",
    "  # always make sure the resulting image\n",
    "  # is cut out from the source image so that\n",
    "  # it fills the TARGET_SIZE entirely with no\n",
    "  # black bars and a preserved aspect ratio.\n",
    "  w = tf.shape(image)[0]\n",
    "  h = tf.shape(image)[1]\n",
    "  tw = TARGET_SIZE[1]\n",
    "  th = TARGET_SIZE[0]\n",
    "  resize_crit = (w * th) / (h * tw)\n",
    "  image = tf.cond(resize_crit < 1,\n",
    "                  lambda: tf.image.resize(image, [w*tw/w, h*tw/w]), # if true\n",
    "                  lambda: tf.image.resize(image, [w*th/h, h*th/h])  # if false\n",
    "                 )\n",
    "  nw = tf.shape(image)[0]\n",
    "  nh = tf.shape(image)[1]\n",
    "  image = tf.image.crop_to_bounding_box(image, (nw - tw) // 2, (nh - th) // 2, tw, th)\n",
    "  return image, label\n",
    "  \n",
    "dataset2 = dataset1.map(resize_and_crop_image, num_parallel_calls=AUTO)  "
   ]
  },
  {
   "cell_type": "code",
   "execution_count": null,
   "metadata": {
    "colab": {
     "base_uri": "https://localhost:8080/",
     "height": 945
    },
    "colab_type": "code",
    "id": "BpwWjVN9PuCt",
    "outputId": "872370e5-3775-4f3c-9199-bdd2e8e96c11"
   },
   "outputs": [],
   "source": [
    "display_9_images_from_dataset(dataset2)"
   ]
  },
  {
   "cell_type": "markdown",
   "metadata": {
    "colab_type": "text",
    "id": "pw0Bi9Di4c71"
   },
   "source": [
    "### Speed test: too slow\n",
    "Google Cloud Storage is capable of great throughput but has a per-file access penalty. Run the cell below and see that throughput is around 8 images per second. That is too slow. Training on thousands of individual files will not work. We have to use the **TFRecord** format to group files together. "
   ]
  },
  {
   "cell_type": "code",
   "execution_count": null,
   "metadata": {
    "colab": {
     "base_uri": "https://localhost:8080/",
     "height": 547
    },
    "colab_type": "code",
    "id": "AF4unmjW4c72",
    "outputId": "809446a7-592e-40b4-f1c7-25630a905ee1"
   },
   "outputs": [],
   "source": [
    "display_dataset = dataset2.batch(8)\n",
    "for image, label in display_dataset.take(30):\n",
    "  print(\"Image batch shape {}, {})\".format(image.numpy().shape, [lbl.decode('utf8') for lbl in label.numpy()]))"
   ]
  },
  {
   "cell_type": "markdown",
   "metadata": {
    "colab_type": "text",
    "id": "WgMEC36wjYtP"
   },
   "source": [
    "## Recompress the images\n",
    "The bandwidth savings outweight the decoding CPU cost"
   ]
  },
  {
   "cell_type": "code",
   "execution_count": null,
   "metadata": {
    "colab": {},
    "colab_type": "code",
    "id": "oYzgji7agVg4"
   },
   "outputs": [],
   "source": [
    "def recompress_image(image, label):\n",
    "  height = tf.shape(image)[0]\n",
    "  width = tf.shape(image)[1]\n",
    "  image = tf.cast(image, tf.uint8)\n",
    "  image = tf.image.encode_jpeg(image, optimize_size=True, chroma_downsampling=False)\n",
    "  return image, label, height, width\n",
    "\n",
    "dataset3 = dataset2.map(recompress_image, num_parallel_calls=AUTO)\n",
    "dataset3 = dataset3.batch(shard_size) # sharding: there will be one \"batch\" of images per file "
   ]
  },
  {
   "cell_type": "markdown",
   "metadata": {
    "colab_type": "text",
    "id": "cDIfPMGCjqLO"
   },
   "source": [
    "## Write dataset to TFRecord files\n",
    "**Do not run the below cell, just read through.**\n",
    "\n",
    "**You do not have write access to the output bucket so you would get an error. Read through the code to familiarize yourself with TFRecord encoding.**"
   ]
  },
  {
   "cell_type": "code",
   "execution_count": null,
   "metadata": {
    "colab": {
     "base_uri": "https://localhost:8080/",
     "height": 306
    },
    "colab_type": "code",
    "id": "9X82-4D2syG4",
    "outputId": "0f44ff1e-6e42-48bd-c77b-703151805ece"
   },
   "outputs": [],
   "source": [
    "# Three types of data can be stored in TFRecords: bytestrings, integers and floats\n",
    "# They are always stored as lists, a single data element will be a list of size 1\n",
    "\n",
    "def _bytestring_feature(list_of_bytestrings):\n",
    "  return tf.train.Feature(bytes_list=tf.train.BytesList(value=list_of_bytestrings))\n",
    "\n",
    "def _int_feature(list_of_ints): # int64\n",
    "  return tf.train.Feature(int64_list=tf.train.Int64List(value=list_of_ints))\n",
    "\n",
    "def _float_feature(list_of_floats): # float32\n",
    "  return tf.train.Feature(float_list=tf.train.FloatList(value=list_of_floats))\n",
    "  \n",
    "\n",
    "def to_tfrecord(tfrec_filewriter, img_bytes, label, height, width):  \n",
    "  class_num = np.argmax(np.array(CLASSES)==label) # 'roses' => 2 (order defined in CLASSES)\n",
    "  one_hot_class = np.eye(len(CLASSES))[class_num]     # [0, 0, 1, 0, 0] for class #2, roses\n",
    "\n",
    "  feature = {\n",
    "      \"image\": _bytestring_feature([img_bytes]), # one image in the list\n",
    "      \"class\": _int_feature([class_num]),        # one class in the list\n",
    "      \n",
    "      # additional (not very useful) fields to demonstrate TFRecord writing/reading of different types of data\n",
    "      \"label\":         _bytestring_feature([label]),          # fixed length (1) list of strings, the text label\n",
    "      \"size\":          _int_feature([height, width]),         # fixed length (2) list of ints\n",
    "      \"one_hot_class\": _float_feature(one_hot_class.tolist()) # variable length  list of floats, n=len(CLASSES)\n",
    "  }\n",
    "  return tf.train.Example(features=tf.train.Features(feature=feature))\n",
    "  \n",
    "print(\"Writing TFRecords\")\n",
    "for shard, (image, label, height, width) in enumerate(dataset3):\n",
    "  # batch size used as shard size here\n",
    "  shard_size = image.numpy().shape[0]\n",
    "  # good practice to have the number of records in the filename\n",
    "  filename = GCS_OUTPUT + \"{:02d}-{}.tfrec\".format(shard, shard_size)\n",
    "  \n",
    "  with tf.io.TFRecordWriter(filename) as out_file:\n",
    "    for i in range(shard_size):\n",
    "      example = to_tfrecord(out_file,\n",
    "                            image.numpy()[i], # re-compressed image: already a byte string\n",
    "                            label.numpy()[i],\n",
    "                            height.numpy()[i],\n",
    "                            width.numpy()[i])\n",
    "      out_file.write(example.SerializeToString())\n",
    "    print(\"Wrote file {} containing {} records\".format(filename, shard_size))"
   ]
  },
  {
   "cell_type": "markdown",
   "metadata": {
    "colab_type": "text",
    "id": "SHG5TzULkJh1"
   },
   "source": [
    "## Read  from TFRecord Dataset\n",
    "**Resume running the cells**"
   ]
  },
  {
   "cell_type": "code",
   "execution_count": null,
   "metadata": {
    "colab": {},
    "colab_type": "code",
    "id": "vjw8GURL8wjk"
   },
   "outputs": [],
   "source": [
    "def read_tfrecord(example):\n",
    "    features = {\n",
    "        \"image\": tf.io.FixedLenFeature([], tf.string),  # tf.string = bytestring (not text string)\n",
    "        \"class\": tf.io.FixedLenFeature([], tf.int64),   # shape [] means scalar\n",
    "        \n",
    "        # additional (not very useful) fields to demonstrate TFRecord writing/reading of different types of data\n",
    "        \"label\":         tf.io.FixedLenFeature([], tf.string),  # one bytestring\n",
    "        \"size\":          tf.io.FixedLenFeature([2], tf.int64),  # two integers\n",
    "        \"one_hot_class\": tf.io.VarLenFeature(tf.float32)        # a certain number of floats\n",
    "    }\n",
    "    # decode the TFRecord\n",
    "# TODO: Your code goes here\n",
    "    example = tf.io.parse_single_example(example, features)\n",
    "    \n",
    "    # FixedLenFeature fields are now ready to use: exmple['size']\n",
    "    # VarLenFeature fields require additional sparse_to_dense decoding\n",
    "    \n",
    "    image = tf.image.decode_jpeg(example['image'], channels=3)\n",
    "    image = tf.reshape(image, [*TARGET_SIZE, 3])\n",
    "    \n",
    "    class_num = example['class']\n",
    "    \n",
    "    label  = example['label']\n",
    "    height = example['size'][0]\n",
    "    width  = example['size'][1]\n",
    "    one_hot_class = tf.sparse.to_dense(example['one_hot_class'])\n",
    "    return image, class_num, label, height, width, one_hot_class\n",
    "    \n",
    "# read from TFRecords. For optimal performance, read from multiple\n",
    "# TFRecord files at once and set the option experimental_deterministic = False\n",
    "# to allow order-altering optimizations.\n",
    "\n",
    "option_no_order = tf.data.Options()\n",
    "option_no_order.experimental_deterministic = False\n",
    "\n",
    "filenames = tf.io.gfile.glob(GCS_OUTPUT + \"*.tfrec\")\n",
    "dataset4 = tf.data.TFRecordDataset(filenames, num_parallel_reads=AUTO)\n",
    "dataset4 = dataset4.with_options(option_no_order)\n",
    "dataset4 = dataset4.map(read_tfrecord, num_parallel_calls=AUTO)\n",
    "dataset4 = dataset4.shuffle(300)"
   ]
  },
  {
   "cell_type": "code",
   "execution_count": null,
   "metadata": {
    "colab": {
     "base_uri": "https://localhost:8080/",
     "height": 945
    },
    "colab_type": "code",
    "id": "crKBTwVXLBWm",
    "outputId": "4a82b248-9f2b-4880-ff0d-eb66641096fb"
   },
   "outputs": [],
   "source": [
    "display_dataset = dataset4.map(lambda image, class_num, label, height, width, one_hot_class: (image, label))\n",
    "display_9_images_from_dataset(display_dataset)"
   ]
  },
  {
   "cell_type": "markdown",
   "metadata": {
    "colab_type": "text",
    "id": "fnk5KdSB4c8E"
   },
   "source": [
    "### Speed test: fast\n",
    "Loading training data is not a bottleneck anymore"
   ]
  },
  {
   "cell_type": "code",
   "execution_count": null,
   "metadata": {
    "colab": {
     "base_uri": "https://localhost:8080/",
     "height": 1000
    },
    "colab_type": "code",
    "id": "6cI-OTT04c8E",
    "outputId": "49134bc2-b8bf-4a93-8e0e-5a0397bb1508"
   },
   "outputs": [],
   "source": [
    "for image, class_num, label, height, width, one_hot_class in dataset4.take(300):\n",
    "    print(\"Image shape {}, {}x{} px, class={} ({:>10}, {})\".format(image.numpy().shape, width, height, class_num, label.numpy().decode('utf8'), one_hot_class))"
   ]
  },
  {
   "cell_type": "code",
   "execution_count": null,
   "metadata": {},
   "outputs": [],
   "source": []
  }
 ],
 "metadata": {
  "accelerator": "TPU",
  "colab": {
   "collapsed_sections": [],
   "name": "Keras MNIST TPU end-to-end - training, saved model and online inference",
   "provenance": []
  },
  "environment": {
   "kernel": "python3",
   "name": "tf2-gpu.2-10.m102",
   "type": "gcloud",
   "uri": "gcr.io/deeplearning-platform-release/tf2-gpu.2-10:m102"
  },
  "kernelspec": {
   "display_name": "Python 3 (ipykernel)",
   "language": "python",
   "name": "python3"
  },
  "language_info": {
   "codemirror_mode": {
    "name": "ipython",
    "version": 3
   },
   "file_extension": ".py",
   "mimetype": "text/x-python",
   "name": "python",
   "nbconvert_exporter": "python",
   "pygments_lexer": "ipython3",
   "version": "3.7.12"
  }
 },
 "nbformat": 4,
 "nbformat_minor": 4
}
